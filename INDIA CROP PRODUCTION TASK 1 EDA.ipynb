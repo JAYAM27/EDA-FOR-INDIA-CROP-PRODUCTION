{
 "cells": [
  {
   "cell_type": "code",
   "execution_count": 2,
   "id": "c3bed5dd",
   "metadata": {},
   "outputs": [],
   "source": [
    "import pandas as pd\n",
    "import numpy as np"
   ]
  },
  {
   "cell_type": "code",
   "execution_count": 3,
   "id": "593f2ccc",
   "metadata": {},
   "outputs": [],
   "source": [
    "df = pd.read_csv('crop_production.csv')"
   ]
  },
  {
   "cell_type": "code",
   "execution_count": 4,
   "id": "57b825c8",
   "metadata": {},
   "outputs": [
    {
     "data": {
      "text/html": [
       "<div>\n",
       "<style scoped>\n",
       "    .dataframe tbody tr th:only-of-type {\n",
       "        vertical-align: middle;\n",
       "    }\n",
       "\n",
       "    .dataframe tbody tr th {\n",
       "        vertical-align: top;\n",
       "    }\n",
       "\n",
       "    .dataframe thead th {\n",
       "        text-align: right;\n",
       "    }\n",
       "</style>\n",
       "<table border=\"1\" class=\"dataframe\">\n",
       "  <thead>\n",
       "    <tr style=\"text-align: right;\">\n",
       "      <th></th>\n",
       "      <th>State_Name</th>\n",
       "      <th>District_Name</th>\n",
       "      <th>Crop_Year</th>\n",
       "      <th>Season</th>\n",
       "      <th>Crop</th>\n",
       "      <th>Area</th>\n",
       "      <th>Production</th>\n",
       "    </tr>\n",
       "  </thead>\n",
       "  <tbody>\n",
       "    <tr>\n",
       "      <th>0</th>\n",
       "      <td>Andaman and Nicobar Islands</td>\n",
       "      <td>NICOBARS</td>\n",
       "      <td>2000</td>\n",
       "      <td>Kharif</td>\n",
       "      <td>Arecanut</td>\n",
       "      <td>1254.0</td>\n",
       "      <td>2000.0</td>\n",
       "    </tr>\n",
       "    <tr>\n",
       "      <th>1</th>\n",
       "      <td>Andaman and Nicobar Islands</td>\n",
       "      <td>NICOBARS</td>\n",
       "      <td>2000</td>\n",
       "      <td>Kharif</td>\n",
       "      <td>Other Kharif pulses</td>\n",
       "      <td>2.0</td>\n",
       "      <td>1.0</td>\n",
       "    </tr>\n",
       "    <tr>\n",
       "      <th>2</th>\n",
       "      <td>Andaman and Nicobar Islands</td>\n",
       "      <td>NICOBARS</td>\n",
       "      <td>2000</td>\n",
       "      <td>Kharif</td>\n",
       "      <td>Rice</td>\n",
       "      <td>102.0</td>\n",
       "      <td>321.0</td>\n",
       "    </tr>\n",
       "    <tr>\n",
       "      <th>3</th>\n",
       "      <td>Andaman and Nicobar Islands</td>\n",
       "      <td>NICOBARS</td>\n",
       "      <td>2000</td>\n",
       "      <td>Whole Year</td>\n",
       "      <td>Banana</td>\n",
       "      <td>176.0</td>\n",
       "      <td>641.0</td>\n",
       "    </tr>\n",
       "    <tr>\n",
       "      <th>4</th>\n",
       "      <td>Andaman and Nicobar Islands</td>\n",
       "      <td>NICOBARS</td>\n",
       "      <td>2000</td>\n",
       "      <td>Whole Year</td>\n",
       "      <td>Cashewnut</td>\n",
       "      <td>720.0</td>\n",
       "      <td>165.0</td>\n",
       "    </tr>\n",
       "    <tr>\n",
       "      <th>...</th>\n",
       "      <td>...</td>\n",
       "      <td>...</td>\n",
       "      <td>...</td>\n",
       "      <td>...</td>\n",
       "      <td>...</td>\n",
       "      <td>...</td>\n",
       "      <td>...</td>\n",
       "    </tr>\n",
       "    <tr>\n",
       "      <th>246086</th>\n",
       "      <td>West Bengal</td>\n",
       "      <td>PURULIA</td>\n",
       "      <td>2014</td>\n",
       "      <td>Summer</td>\n",
       "      <td>Rice</td>\n",
       "      <td>306.0</td>\n",
       "      <td>801.0</td>\n",
       "    </tr>\n",
       "    <tr>\n",
       "      <th>246087</th>\n",
       "      <td>West Bengal</td>\n",
       "      <td>PURULIA</td>\n",
       "      <td>2014</td>\n",
       "      <td>Summer</td>\n",
       "      <td>Sesamum</td>\n",
       "      <td>627.0</td>\n",
       "      <td>463.0</td>\n",
       "    </tr>\n",
       "    <tr>\n",
       "      <th>246088</th>\n",
       "      <td>West Bengal</td>\n",
       "      <td>PURULIA</td>\n",
       "      <td>2014</td>\n",
       "      <td>Whole Year</td>\n",
       "      <td>Sugarcane</td>\n",
       "      <td>324.0</td>\n",
       "      <td>16250.0</td>\n",
       "    </tr>\n",
       "    <tr>\n",
       "      <th>246089</th>\n",
       "      <td>West Bengal</td>\n",
       "      <td>PURULIA</td>\n",
       "      <td>2014</td>\n",
       "      <td>Winter</td>\n",
       "      <td>Rice</td>\n",
       "      <td>279151.0</td>\n",
       "      <td>597899.0</td>\n",
       "    </tr>\n",
       "    <tr>\n",
       "      <th>246090</th>\n",
       "      <td>West Bengal</td>\n",
       "      <td>PURULIA</td>\n",
       "      <td>2014</td>\n",
       "      <td>Winter</td>\n",
       "      <td>Sesamum</td>\n",
       "      <td>175.0</td>\n",
       "      <td>88.0</td>\n",
       "    </tr>\n",
       "  </tbody>\n",
       "</table>\n",
       "<p>246091 rows × 7 columns</p>\n",
       "</div>"
      ],
      "text/plain": [
       "                         State_Name District_Name  Crop_Year       Season  \\\n",
       "0       Andaman and Nicobar Islands      NICOBARS       2000  Kharif        \n",
       "1       Andaman and Nicobar Islands      NICOBARS       2000  Kharif        \n",
       "2       Andaman and Nicobar Islands      NICOBARS       2000  Kharif        \n",
       "3       Andaman and Nicobar Islands      NICOBARS       2000  Whole Year    \n",
       "4       Andaman and Nicobar Islands      NICOBARS       2000  Whole Year    \n",
       "...                             ...           ...        ...          ...   \n",
       "246086                  West Bengal       PURULIA       2014  Summer        \n",
       "246087                  West Bengal       PURULIA       2014  Summer        \n",
       "246088                  West Bengal       PURULIA       2014  Whole Year    \n",
       "246089                  West Bengal       PURULIA       2014  Winter        \n",
       "246090                  West Bengal       PURULIA       2014  Winter        \n",
       "\n",
       "                       Crop      Area  Production  \n",
       "0                  Arecanut    1254.0      2000.0  \n",
       "1       Other Kharif pulses       2.0         1.0  \n",
       "2                      Rice     102.0       321.0  \n",
       "3                    Banana     176.0       641.0  \n",
       "4                 Cashewnut     720.0       165.0  \n",
       "...                     ...       ...         ...  \n",
       "246086                 Rice     306.0       801.0  \n",
       "246087              Sesamum     627.0       463.0  \n",
       "246088            Sugarcane     324.0     16250.0  \n",
       "246089                 Rice  279151.0    597899.0  \n",
       "246090              Sesamum     175.0        88.0  \n",
       "\n",
       "[246091 rows x 7 columns]"
      ]
     },
     "execution_count": 4,
     "metadata": {},
     "output_type": "execute_result"
    }
   ],
   "source": [
    "df"
   ]
  },
  {
   "cell_type": "code",
   "execution_count": 5,
   "id": "b9ceb0fd",
   "metadata": {},
   "outputs": [
    {
     "data": {
      "text/html": [
       "<div>\n",
       "<style scoped>\n",
       "    .dataframe tbody tr th:only-of-type {\n",
       "        vertical-align: middle;\n",
       "    }\n",
       "\n",
       "    .dataframe tbody tr th {\n",
       "        vertical-align: top;\n",
       "    }\n",
       "\n",
       "    .dataframe thead th {\n",
       "        text-align: right;\n",
       "    }\n",
       "</style>\n",
       "<table border=\"1\" class=\"dataframe\">\n",
       "  <thead>\n",
       "    <tr style=\"text-align: right;\">\n",
       "      <th></th>\n",
       "      <th>State_Name</th>\n",
       "      <th>District_Name</th>\n",
       "      <th>Crop_Year</th>\n",
       "      <th>Season</th>\n",
       "      <th>Crop</th>\n",
       "      <th>Area</th>\n",
       "      <th>Production</th>\n",
       "    </tr>\n",
       "  </thead>\n",
       "  <tbody>\n",
       "    <tr>\n",
       "      <th>0</th>\n",
       "      <td>Andaman and Nicobar Islands</td>\n",
       "      <td>NICOBARS</td>\n",
       "      <td>2000</td>\n",
       "      <td>Kharif</td>\n",
       "      <td>Arecanut</td>\n",
       "      <td>1254.0</td>\n",
       "      <td>2000.0</td>\n",
       "    </tr>\n",
       "    <tr>\n",
       "      <th>1</th>\n",
       "      <td>Andaman and Nicobar Islands</td>\n",
       "      <td>NICOBARS</td>\n",
       "      <td>2000</td>\n",
       "      <td>Kharif</td>\n",
       "      <td>Other Kharif pulses</td>\n",
       "      <td>2.0</td>\n",
       "      <td>1.0</td>\n",
       "    </tr>\n",
       "    <tr>\n",
       "      <th>2</th>\n",
       "      <td>Andaman and Nicobar Islands</td>\n",
       "      <td>NICOBARS</td>\n",
       "      <td>2000</td>\n",
       "      <td>Kharif</td>\n",
       "      <td>Rice</td>\n",
       "      <td>102.0</td>\n",
       "      <td>321.0</td>\n",
       "    </tr>\n",
       "    <tr>\n",
       "      <th>3</th>\n",
       "      <td>Andaman and Nicobar Islands</td>\n",
       "      <td>NICOBARS</td>\n",
       "      <td>2000</td>\n",
       "      <td>Whole Year</td>\n",
       "      <td>Banana</td>\n",
       "      <td>176.0</td>\n",
       "      <td>641.0</td>\n",
       "    </tr>\n",
       "    <tr>\n",
       "      <th>4</th>\n",
       "      <td>Andaman and Nicobar Islands</td>\n",
       "      <td>NICOBARS</td>\n",
       "      <td>2000</td>\n",
       "      <td>Whole Year</td>\n",
       "      <td>Cashewnut</td>\n",
       "      <td>720.0</td>\n",
       "      <td>165.0</td>\n",
       "    </tr>\n",
       "    <tr>\n",
       "      <th>5</th>\n",
       "      <td>Andaman and Nicobar Islands</td>\n",
       "      <td>NICOBARS</td>\n",
       "      <td>2000</td>\n",
       "      <td>Whole Year</td>\n",
       "      <td>Coconut</td>\n",
       "      <td>18168.0</td>\n",
       "      <td>65100000.0</td>\n",
       "    </tr>\n",
       "    <tr>\n",
       "      <th>6</th>\n",
       "      <td>Andaman and Nicobar Islands</td>\n",
       "      <td>NICOBARS</td>\n",
       "      <td>2000</td>\n",
       "      <td>Whole Year</td>\n",
       "      <td>Dry ginger</td>\n",
       "      <td>36.0</td>\n",
       "      <td>100.0</td>\n",
       "    </tr>\n",
       "    <tr>\n",
       "      <th>7</th>\n",
       "      <td>Andaman and Nicobar Islands</td>\n",
       "      <td>NICOBARS</td>\n",
       "      <td>2000</td>\n",
       "      <td>Whole Year</td>\n",
       "      <td>Sugarcane</td>\n",
       "      <td>1.0</td>\n",
       "      <td>2.0</td>\n",
       "    </tr>\n",
       "    <tr>\n",
       "      <th>8</th>\n",
       "      <td>Andaman and Nicobar Islands</td>\n",
       "      <td>NICOBARS</td>\n",
       "      <td>2000</td>\n",
       "      <td>Whole Year</td>\n",
       "      <td>Sweet potato</td>\n",
       "      <td>5.0</td>\n",
       "      <td>15.0</td>\n",
       "    </tr>\n",
       "    <tr>\n",
       "      <th>9</th>\n",
       "      <td>Andaman and Nicobar Islands</td>\n",
       "      <td>NICOBARS</td>\n",
       "      <td>2000</td>\n",
       "      <td>Whole Year</td>\n",
       "      <td>Tapioca</td>\n",
       "      <td>40.0</td>\n",
       "      <td>169.0</td>\n",
       "    </tr>\n",
       "    <tr>\n",
       "      <th>10</th>\n",
       "      <td>Andaman and Nicobar Islands</td>\n",
       "      <td>NICOBARS</td>\n",
       "      <td>2001</td>\n",
       "      <td>Kharif</td>\n",
       "      <td>Arecanut</td>\n",
       "      <td>1254.0</td>\n",
       "      <td>2061.0</td>\n",
       "    </tr>\n",
       "    <tr>\n",
       "      <th>11</th>\n",
       "      <td>Andaman and Nicobar Islands</td>\n",
       "      <td>NICOBARS</td>\n",
       "      <td>2001</td>\n",
       "      <td>Kharif</td>\n",
       "      <td>Other Kharif pulses</td>\n",
       "      <td>2.0</td>\n",
       "      <td>1.0</td>\n",
       "    </tr>\n",
       "    <tr>\n",
       "      <th>12</th>\n",
       "      <td>Andaman and Nicobar Islands</td>\n",
       "      <td>NICOBARS</td>\n",
       "      <td>2001</td>\n",
       "      <td>Kharif</td>\n",
       "      <td>Rice</td>\n",
       "      <td>83.0</td>\n",
       "      <td>300.0</td>\n",
       "    </tr>\n",
       "    <tr>\n",
       "      <th>13</th>\n",
       "      <td>Andaman and Nicobar Islands</td>\n",
       "      <td>NICOBARS</td>\n",
       "      <td>2001</td>\n",
       "      <td>Whole Year</td>\n",
       "      <td>Cashewnut</td>\n",
       "      <td>719.0</td>\n",
       "      <td>192.0</td>\n",
       "    </tr>\n",
       "    <tr>\n",
       "      <th>14</th>\n",
       "      <td>Andaman and Nicobar Islands</td>\n",
       "      <td>NICOBARS</td>\n",
       "      <td>2001</td>\n",
       "      <td>Whole Year</td>\n",
       "      <td>Coconut</td>\n",
       "      <td>18190.0</td>\n",
       "      <td>64430000.0</td>\n",
       "    </tr>\n",
       "  </tbody>\n",
       "</table>\n",
       "</div>"
      ],
      "text/plain": [
       "                     State_Name District_Name  Crop_Year       Season  \\\n",
       "0   Andaman and Nicobar Islands      NICOBARS       2000  Kharif        \n",
       "1   Andaman and Nicobar Islands      NICOBARS       2000  Kharif        \n",
       "2   Andaman and Nicobar Islands      NICOBARS       2000  Kharif        \n",
       "3   Andaman and Nicobar Islands      NICOBARS       2000  Whole Year    \n",
       "4   Andaman and Nicobar Islands      NICOBARS       2000  Whole Year    \n",
       "5   Andaman and Nicobar Islands      NICOBARS       2000  Whole Year    \n",
       "6   Andaman and Nicobar Islands      NICOBARS       2000  Whole Year    \n",
       "7   Andaman and Nicobar Islands      NICOBARS       2000  Whole Year    \n",
       "8   Andaman and Nicobar Islands      NICOBARS       2000  Whole Year    \n",
       "9   Andaman and Nicobar Islands      NICOBARS       2000  Whole Year    \n",
       "10  Andaman and Nicobar Islands      NICOBARS       2001  Kharif        \n",
       "11  Andaman and Nicobar Islands      NICOBARS       2001  Kharif        \n",
       "12  Andaman and Nicobar Islands      NICOBARS       2001  Kharif        \n",
       "13  Andaman and Nicobar Islands      NICOBARS       2001  Whole Year    \n",
       "14  Andaman and Nicobar Islands      NICOBARS       2001  Whole Year    \n",
       "\n",
       "                   Crop     Area  Production  \n",
       "0              Arecanut   1254.0      2000.0  \n",
       "1   Other Kharif pulses      2.0         1.0  \n",
       "2                  Rice    102.0       321.0  \n",
       "3                Banana    176.0       641.0  \n",
       "4             Cashewnut    720.0       165.0  \n",
       "5              Coconut   18168.0  65100000.0  \n",
       "6            Dry ginger     36.0       100.0  \n",
       "7             Sugarcane      1.0         2.0  \n",
       "8          Sweet potato      5.0        15.0  \n",
       "9               Tapioca     40.0       169.0  \n",
       "10             Arecanut   1254.0      2061.0  \n",
       "11  Other Kharif pulses      2.0         1.0  \n",
       "12                 Rice     83.0       300.0  \n",
       "13            Cashewnut    719.0       192.0  \n",
       "14             Coconut   18190.0  64430000.0  "
      ]
     },
     "execution_count": 5,
     "metadata": {},
     "output_type": "execute_result"
    }
   ],
   "source": [
    "df.head(15)"
   ]
  },
  {
   "cell_type": "code",
   "execution_count": 6,
   "id": "f87b3fa0",
   "metadata": {},
   "outputs": [
    {
     "data": {
      "text/html": [
       "<style type=\"text/css\">\n",
       "#T_207bc_row0_col2, #T_207bc_row0_col5, #T_207bc_row0_col6, #T_207bc_row1_col2, #T_207bc_row1_col5, #T_207bc_row1_col6, #T_207bc_row2_col2, #T_207bc_row2_col5, #T_207bc_row2_col6, #T_207bc_row3_col2, #T_207bc_row3_col5, #T_207bc_row3_col6, #T_207bc_row4_col2, #T_207bc_row4_col5, #T_207bc_row5_col2, #T_207bc_row5_col6, #T_207bc_row6_col2, #T_207bc_row6_col5, #T_207bc_row6_col6, #T_207bc_row7_col2, #T_207bc_row7_col5, #T_207bc_row7_col6, #T_207bc_row8_col2, #T_207bc_row9_col2, #T_207bc_row9_col5, #T_207bc_row9_col6, #T_207bc_row10_col2, #T_207bc_row10_col5, #T_207bc_row10_col6, #T_207bc_row11_col2, #T_207bc_row11_col5, #T_207bc_row11_col6, #T_207bc_row12_col2, #T_207bc_row12_col5, #T_207bc_row13_col2, #T_207bc_row14_col2, #T_207bc_row14_col5, #T_207bc_row14_col6 {\n",
       "  background-color: #ffffcc;\n",
       "  color: #000000;\n",
       "}\n",
       "#T_207bc_row4_col6 {\n",
       "  background-color: #fffdc6;\n",
       "  color: #000000;\n",
       "}\n",
       "#T_207bc_row5_col5, #T_207bc_row8_col5, #T_207bc_row8_col6 {\n",
       "  background-color: #fffecb;\n",
       "  color: #000000;\n",
       "}\n",
       "#T_207bc_row12_col6 {\n",
       "  background-color: #fffcc4;\n",
       "  color: #000000;\n",
       "}\n",
       "#T_207bc_row13_col5, #T_207bc_row13_col6 {\n",
       "  background-color: #800026;\n",
       "  color: #f1f1f1;\n",
       "}\n",
       "</style>\n",
       "<table id=\"T_207bc\">\n",
       "  <thead>\n",
       "    <tr>\n",
       "      <th class=\"blank level0\" >&nbsp;</th>\n",
       "      <th id=\"T_207bc_level0_col0\" class=\"col_heading level0 col0\" >State_Name</th>\n",
       "      <th id=\"T_207bc_level0_col1\" class=\"col_heading level0 col1\" >District_Name</th>\n",
       "      <th id=\"T_207bc_level0_col2\" class=\"col_heading level0 col2\" >Crop_Year</th>\n",
       "      <th id=\"T_207bc_level0_col3\" class=\"col_heading level0 col3\" >Season</th>\n",
       "      <th id=\"T_207bc_level0_col4\" class=\"col_heading level0 col4\" >Crop</th>\n",
       "      <th id=\"T_207bc_level0_col5\" class=\"col_heading level0 col5\" >Area</th>\n",
       "      <th id=\"T_207bc_level0_col6\" class=\"col_heading level0 col6\" >Production</th>\n",
       "    </tr>\n",
       "  </thead>\n",
       "  <tbody>\n",
       "    <tr>\n",
       "      <th id=\"T_207bc_level0_row0\" class=\"row_heading level0 row0\" >246076</th>\n",
       "      <td id=\"T_207bc_row0_col0\" class=\"data row0 col0\" >West Bengal</td>\n",
       "      <td id=\"T_207bc_row0_col1\" class=\"data row0 col1\" >PURULIA</td>\n",
       "      <td id=\"T_207bc_row0_col2\" class=\"data row0 col2\" >2014</td>\n",
       "      <td id=\"T_207bc_row0_col3\" class=\"data row0 col3\" >Rabi       </td>\n",
       "      <td id=\"T_207bc_row0_col4\" class=\"data row0 col4\" >Linseed</td>\n",
       "      <td id=\"T_207bc_row0_col5\" class=\"data row0 col5\" >160.000000</td>\n",
       "      <td id=\"T_207bc_row0_col6\" class=\"data row0 col6\" >51.000000</td>\n",
       "    </tr>\n",
       "    <tr>\n",
       "      <th id=\"T_207bc_level0_row1\" class=\"row_heading level0 row1\" >246077</th>\n",
       "      <td id=\"T_207bc_row1_col0\" class=\"data row1 col0\" >West Bengal</td>\n",
       "      <td id=\"T_207bc_row1_col1\" class=\"data row1 col1\" >PURULIA</td>\n",
       "      <td id=\"T_207bc_row1_col2\" class=\"data row1 col2\" >2014</td>\n",
       "      <td id=\"T_207bc_row1_col3\" class=\"data row1 col3\" >Rabi       </td>\n",
       "      <td id=\"T_207bc_row1_col4\" class=\"data row1 col4\" >Masoor</td>\n",
       "      <td id=\"T_207bc_row1_col5\" class=\"data row1 col5\" >31.000000</td>\n",
       "      <td id=\"T_207bc_row1_col6\" class=\"data row1 col6\" >19.000000</td>\n",
       "    </tr>\n",
       "    <tr>\n",
       "      <th id=\"T_207bc_level0_row2\" class=\"row_heading level0 row2\" >246078</th>\n",
       "      <td id=\"T_207bc_row2_col0\" class=\"data row2 col0\" >West Bengal</td>\n",
       "      <td id=\"T_207bc_row2_col1\" class=\"data row2 col1\" >PURULIA</td>\n",
       "      <td id=\"T_207bc_row2_col2\" class=\"data row2 col2\" >2014</td>\n",
       "      <td id=\"T_207bc_row2_col3\" class=\"data row2 col3\" >Rabi       </td>\n",
       "      <td id=\"T_207bc_row2_col4\" class=\"data row2 col4\" >Moong(Green Gram)</td>\n",
       "      <td id=\"T_207bc_row2_col5\" class=\"data row2 col5\" >64.000000</td>\n",
       "      <td id=\"T_207bc_row2_col6\" class=\"data row2 col6\" >40.000000</td>\n",
       "    </tr>\n",
       "    <tr>\n",
       "      <th id=\"T_207bc_level0_row3\" class=\"row_heading level0 row3\" >246079</th>\n",
       "      <td id=\"T_207bc_row3_col0\" class=\"data row3 col0\" >West Bengal</td>\n",
       "      <td id=\"T_207bc_row3_col1\" class=\"data row3 col1\" >PURULIA</td>\n",
       "      <td id=\"T_207bc_row3_col2\" class=\"data row3 col2\" >2014</td>\n",
       "      <td id=\"T_207bc_row3_col3\" class=\"data row3 col3\" >Rabi       </td>\n",
       "      <td id=\"T_207bc_row3_col4\" class=\"data row3 col4\" >Peas & beans (Pulses)</td>\n",
       "      <td id=\"T_207bc_row3_col5\" class=\"data row3 col5\" >12.000000</td>\n",
       "      <td id=\"T_207bc_row3_col6\" class=\"data row3 col6\" >12.000000</td>\n",
       "    </tr>\n",
       "    <tr>\n",
       "      <th id=\"T_207bc_level0_row4\" class=\"row_heading level0 row4\" >246080</th>\n",
       "      <td id=\"T_207bc_row4_col0\" class=\"data row4 col0\" >West Bengal</td>\n",
       "      <td id=\"T_207bc_row4_col1\" class=\"data row4 col1\" >PURULIA</td>\n",
       "      <td id=\"T_207bc_row4_col2\" class=\"data row4 col2\" >2014</td>\n",
       "      <td id=\"T_207bc_row4_col3\" class=\"data row4 col3\" >Rabi       </td>\n",
       "      <td id=\"T_207bc_row4_col4\" class=\"data row4 col4\" >Potato</td>\n",
       "      <td id=\"T_207bc_row4_col5\" class=\"data row4 col5\" >477.000000</td>\n",
       "      <td id=\"T_207bc_row4_col6\" class=\"data row4 col6\" >9995.000000</td>\n",
       "    </tr>\n",
       "    <tr>\n",
       "      <th id=\"T_207bc_level0_row5\" class=\"row_heading level0 row5\" >246081</th>\n",
       "      <td id=\"T_207bc_row5_col0\" class=\"data row5 col0\" >West Bengal</td>\n",
       "      <td id=\"T_207bc_row5_col1\" class=\"data row5 col1\" >PURULIA</td>\n",
       "      <td id=\"T_207bc_row5_col2\" class=\"data row5 col2\" >2014</td>\n",
       "      <td id=\"T_207bc_row5_col3\" class=\"data row5 col3\" >Rabi       </td>\n",
       "      <td id=\"T_207bc_row5_col4\" class=\"data row5 col4\" >Rapeseed &Mustard</td>\n",
       "      <td id=\"T_207bc_row5_col5\" class=\"data row5 col5\" >1885.000000</td>\n",
       "      <td id=\"T_207bc_row5_col6\" class=\"data row5 col6\" >1508.000000</td>\n",
       "    </tr>\n",
       "    <tr>\n",
       "      <th id=\"T_207bc_level0_row6\" class=\"row_heading level0 row6\" >246082</th>\n",
       "      <td id=\"T_207bc_row6_col0\" class=\"data row6 col0\" >West Bengal</td>\n",
       "      <td id=\"T_207bc_row6_col1\" class=\"data row6 col1\" >PURULIA</td>\n",
       "      <td id=\"T_207bc_row6_col2\" class=\"data row6 col2\" >2014</td>\n",
       "      <td id=\"T_207bc_row6_col3\" class=\"data row6 col3\" >Rabi       </td>\n",
       "      <td id=\"T_207bc_row6_col4\" class=\"data row6 col4\" >Safflower</td>\n",
       "      <td id=\"T_207bc_row6_col5\" class=\"data row6 col5\" >54.000000</td>\n",
       "      <td id=\"T_207bc_row6_col6\" class=\"data row6 col6\" >37.000000</td>\n",
       "    </tr>\n",
       "    <tr>\n",
       "      <th id=\"T_207bc_level0_row7\" class=\"row_heading level0 row7\" >246083</th>\n",
       "      <td id=\"T_207bc_row7_col0\" class=\"data row7 col0\" >West Bengal</td>\n",
       "      <td id=\"T_207bc_row7_col1\" class=\"data row7 col1\" >PURULIA</td>\n",
       "      <td id=\"T_207bc_row7_col2\" class=\"data row7 col2\" >2014</td>\n",
       "      <td id=\"T_207bc_row7_col3\" class=\"data row7 col3\" >Rabi       </td>\n",
       "      <td id=\"T_207bc_row7_col4\" class=\"data row7 col4\" >Urad</td>\n",
       "      <td id=\"T_207bc_row7_col5\" class=\"data row7 col5\" >220.000000</td>\n",
       "      <td id=\"T_207bc_row7_col6\" class=\"data row7 col6\" >113.000000</td>\n",
       "    </tr>\n",
       "    <tr>\n",
       "      <th id=\"T_207bc_level0_row8\" class=\"row_heading level0 row8\" >246084</th>\n",
       "      <td id=\"T_207bc_row8_col0\" class=\"data row8 col0\" >West Bengal</td>\n",
       "      <td id=\"T_207bc_row8_col1\" class=\"data row8 col1\" >PURULIA</td>\n",
       "      <td id=\"T_207bc_row8_col2\" class=\"data row8 col2\" >2014</td>\n",
       "      <td id=\"T_207bc_row8_col3\" class=\"data row8 col3\" >Rabi       </td>\n",
       "      <td id=\"T_207bc_row8_col4\" class=\"data row8 col4\" >Wheat</td>\n",
       "      <td id=\"T_207bc_row8_col5\" class=\"data row8 col5\" >1622.000000</td>\n",
       "      <td id=\"T_207bc_row8_col6\" class=\"data row8 col6\" >3663.000000</td>\n",
       "    </tr>\n",
       "    <tr>\n",
       "      <th id=\"T_207bc_level0_row9\" class=\"row_heading level0 row9\" >246085</th>\n",
       "      <td id=\"T_207bc_row9_col0\" class=\"data row9 col0\" >West Bengal</td>\n",
       "      <td id=\"T_207bc_row9_col1\" class=\"data row9 col1\" >PURULIA</td>\n",
       "      <td id=\"T_207bc_row9_col2\" class=\"data row9 col2\" >2014</td>\n",
       "      <td id=\"T_207bc_row9_col3\" class=\"data row9 col3\" >Summer     </td>\n",
       "      <td id=\"T_207bc_row9_col4\" class=\"data row9 col4\" >Maize</td>\n",
       "      <td id=\"T_207bc_row9_col5\" class=\"data row9 col5\" >325.000000</td>\n",
       "      <td id=\"T_207bc_row9_col6\" class=\"data row9 col6\" >2039.000000</td>\n",
       "    </tr>\n",
       "    <tr>\n",
       "      <th id=\"T_207bc_level0_row10\" class=\"row_heading level0 row10\" >246086</th>\n",
       "      <td id=\"T_207bc_row10_col0\" class=\"data row10 col0\" >West Bengal</td>\n",
       "      <td id=\"T_207bc_row10_col1\" class=\"data row10 col1\" >PURULIA</td>\n",
       "      <td id=\"T_207bc_row10_col2\" class=\"data row10 col2\" >2014</td>\n",
       "      <td id=\"T_207bc_row10_col3\" class=\"data row10 col3\" >Summer     </td>\n",
       "      <td id=\"T_207bc_row10_col4\" class=\"data row10 col4\" >Rice</td>\n",
       "      <td id=\"T_207bc_row10_col5\" class=\"data row10 col5\" >306.000000</td>\n",
       "      <td id=\"T_207bc_row10_col6\" class=\"data row10 col6\" >801.000000</td>\n",
       "    </tr>\n",
       "    <tr>\n",
       "      <th id=\"T_207bc_level0_row11\" class=\"row_heading level0 row11\" >246087</th>\n",
       "      <td id=\"T_207bc_row11_col0\" class=\"data row11 col0\" >West Bengal</td>\n",
       "      <td id=\"T_207bc_row11_col1\" class=\"data row11 col1\" >PURULIA</td>\n",
       "      <td id=\"T_207bc_row11_col2\" class=\"data row11 col2\" >2014</td>\n",
       "      <td id=\"T_207bc_row11_col3\" class=\"data row11 col3\" >Summer     </td>\n",
       "      <td id=\"T_207bc_row11_col4\" class=\"data row11 col4\" >Sesamum</td>\n",
       "      <td id=\"T_207bc_row11_col5\" class=\"data row11 col5\" >627.000000</td>\n",
       "      <td id=\"T_207bc_row11_col6\" class=\"data row11 col6\" >463.000000</td>\n",
       "    </tr>\n",
       "    <tr>\n",
       "      <th id=\"T_207bc_level0_row12\" class=\"row_heading level0 row12\" >246088</th>\n",
       "      <td id=\"T_207bc_row12_col0\" class=\"data row12 col0\" >West Bengal</td>\n",
       "      <td id=\"T_207bc_row12_col1\" class=\"data row12 col1\" >PURULIA</td>\n",
       "      <td id=\"T_207bc_row12_col2\" class=\"data row12 col2\" >2014</td>\n",
       "      <td id=\"T_207bc_row12_col3\" class=\"data row12 col3\" >Whole Year </td>\n",
       "      <td id=\"T_207bc_row12_col4\" class=\"data row12 col4\" >Sugarcane</td>\n",
       "      <td id=\"T_207bc_row12_col5\" class=\"data row12 col5\" >324.000000</td>\n",
       "      <td id=\"T_207bc_row12_col6\" class=\"data row12 col6\" >16250.000000</td>\n",
       "    </tr>\n",
       "    <tr>\n",
       "      <th id=\"T_207bc_level0_row13\" class=\"row_heading level0 row13\" >246089</th>\n",
       "      <td id=\"T_207bc_row13_col0\" class=\"data row13 col0\" >West Bengal</td>\n",
       "      <td id=\"T_207bc_row13_col1\" class=\"data row13 col1\" >PURULIA</td>\n",
       "      <td id=\"T_207bc_row13_col2\" class=\"data row13 col2\" >2014</td>\n",
       "      <td id=\"T_207bc_row13_col3\" class=\"data row13 col3\" >Winter     </td>\n",
       "      <td id=\"T_207bc_row13_col4\" class=\"data row13 col4\" >Rice</td>\n",
       "      <td id=\"T_207bc_row13_col5\" class=\"data row13 col5\" >279151.000000</td>\n",
       "      <td id=\"T_207bc_row13_col6\" class=\"data row13 col6\" >597899.000000</td>\n",
       "    </tr>\n",
       "    <tr>\n",
       "      <th id=\"T_207bc_level0_row14\" class=\"row_heading level0 row14\" >246090</th>\n",
       "      <td id=\"T_207bc_row14_col0\" class=\"data row14 col0\" >West Bengal</td>\n",
       "      <td id=\"T_207bc_row14_col1\" class=\"data row14 col1\" >PURULIA</td>\n",
       "      <td id=\"T_207bc_row14_col2\" class=\"data row14 col2\" >2014</td>\n",
       "      <td id=\"T_207bc_row14_col3\" class=\"data row14 col3\" >Winter     </td>\n",
       "      <td id=\"T_207bc_row14_col4\" class=\"data row14 col4\" >Sesamum</td>\n",
       "      <td id=\"T_207bc_row14_col5\" class=\"data row14 col5\" >175.000000</td>\n",
       "      <td id=\"T_207bc_row14_col6\" class=\"data row14 col6\" >88.000000</td>\n",
       "    </tr>\n",
       "  </tbody>\n",
       "</table>\n"
      ],
      "text/plain": [
       "<pandas.io.formats.style.Styler at 0x2c1f6d9b220>"
      ]
     },
     "execution_count": 6,
     "metadata": {},
     "output_type": "execute_result"
    }
   ],
   "source": [
    "df.tail(15).style.background_gradient(cmap='YlOrRd')"
   ]
  },
  {
   "cell_type": "code",
   "execution_count": 7,
   "id": "5c885b96",
   "metadata": {},
   "outputs": [
    {
     "data": {
      "text/plain": [
       "(246091, 7)"
      ]
     },
     "execution_count": 7,
     "metadata": {},
     "output_type": "execute_result"
    }
   ],
   "source": [
    "df.shape"
   ]
  },
  {
   "cell_type": "code",
   "execution_count": 8,
   "id": "f6e1d1c0",
   "metadata": {},
   "outputs": [
    {
     "data": {
      "text/plain": [
       "1722637"
      ]
     },
     "execution_count": 8,
     "metadata": {},
     "output_type": "execute_result"
    }
   ],
   "source": [
    "df.size"
   ]
  },
  {
   "cell_type": "code",
   "execution_count": 9,
   "id": "717a45a6",
   "metadata": {},
   "outputs": [
    {
     "data": {
      "text/html": [
       "<style type=\"text/css\">\n",
       "#T_18f43_row0_col0, #T_18f43_row7_col1, #T_18f43_row7_col2 {\n",
       "  background-color: #ffc77f;\n",
       "  color: #000000;\n",
       "}\n",
       "#T_18f43_row0_col1 {\n",
       "  background-color: #090503;\n",
       "  color: #f1f1f1;\n",
       "}\n",
       "#T_18f43_row0_col2, #T_18f43_row1_col1, #T_18f43_row1_col2, #T_18f43_row2_col0, #T_18f43_row3_col1, #T_18f43_row3_col2, #T_18f43_row4_col1, #T_18f43_row4_col2, #T_18f43_row5_col1, #T_18f43_row5_col2, #T_18f43_row6_col1, #T_18f43_row6_col2 {\n",
       "  background-color: #000000;\n",
       "  color: #f1f1f1;\n",
       "}\n",
       "#T_18f43_row1_col0, #T_18f43_row3_col0, #T_18f43_row4_col0, #T_18f43_row5_col0, #T_18f43_row6_col0, #T_18f43_row7_col0 {\n",
       "  background-color: #020201;\n",
       "  color: #f1f1f1;\n",
       "}\n",
       "#T_18f43_row2_col1 {\n",
       "  background-color: #010100;\n",
       "  color: #f1f1f1;\n",
       "}\n",
       "#T_18f43_row2_col2 {\n",
       "  background-color: #040201;\n",
       "  color: #f1f1f1;\n",
       "}\n",
       "</style>\n",
       "<table id=\"T_18f43\">\n",
       "  <thead>\n",
       "    <tr>\n",
       "      <th class=\"blank level0\" >&nbsp;</th>\n",
       "      <th id=\"T_18f43_level0_col0\" class=\"col_heading level0 col0\" >Crop_Year</th>\n",
       "      <th id=\"T_18f43_level0_col1\" class=\"col_heading level0 col1\" >Area</th>\n",
       "      <th id=\"T_18f43_level0_col2\" class=\"col_heading level0 col2\" >Production</th>\n",
       "    </tr>\n",
       "  </thead>\n",
       "  <tbody>\n",
       "    <tr>\n",
       "      <th id=\"T_18f43_level0_row0\" class=\"row_heading level0 row0\" >count</th>\n",
       "      <td id=\"T_18f43_row0_col0\" class=\"data row0 col0\" >246091.000000</td>\n",
       "      <td id=\"T_18f43_row0_col1\" class=\"data row0 col1\" >246091.000000</td>\n",
       "      <td id=\"T_18f43_row0_col2\" class=\"data row0 col2\" >242361.000000</td>\n",
       "    </tr>\n",
       "    <tr>\n",
       "      <th id=\"T_18f43_level0_row1\" class=\"row_heading level0 row1\" >mean</th>\n",
       "      <td id=\"T_18f43_row1_col0\" class=\"data row1 col0\" >2005.643000</td>\n",
       "      <td id=\"T_18f43_row1_col1\" class=\"data row1 col1\" >12002.821000</td>\n",
       "      <td id=\"T_18f43_row1_col2\" class=\"data row1 col2\" >582503.442000</td>\n",
       "    </tr>\n",
       "    <tr>\n",
       "      <th id=\"T_18f43_level0_row2\" class=\"row_heading level0 row2\" >std</th>\n",
       "      <td id=\"T_18f43_row2_col0\" class=\"data row2 col0\" >4.952000</td>\n",
       "      <td id=\"T_18f43_row2_col1\" class=\"data row2 col1\" >50523.404000</td>\n",
       "      <td id=\"T_18f43_row2_col2\" class=\"data row2 col2\" >17065813.172000</td>\n",
       "    </tr>\n",
       "    <tr>\n",
       "      <th id=\"T_18f43_level0_row3\" class=\"row_heading level0 row3\" >min</th>\n",
       "      <td id=\"T_18f43_row3_col0\" class=\"data row3 col0\" >1997.000000</td>\n",
       "      <td id=\"T_18f43_row3_col1\" class=\"data row3 col1\" >0.040000</td>\n",
       "      <td id=\"T_18f43_row3_col2\" class=\"data row3 col2\" >0.000000</td>\n",
       "    </tr>\n",
       "    <tr>\n",
       "      <th id=\"T_18f43_level0_row4\" class=\"row_heading level0 row4\" >25%</th>\n",
       "      <td id=\"T_18f43_row4_col0\" class=\"data row4 col0\" >2002.000000</td>\n",
       "      <td id=\"T_18f43_row4_col1\" class=\"data row4 col1\" >80.000000</td>\n",
       "      <td id=\"T_18f43_row4_col2\" class=\"data row4 col2\" >88.000000</td>\n",
       "    </tr>\n",
       "    <tr>\n",
       "      <th id=\"T_18f43_level0_row5\" class=\"row_heading level0 row5\" >50%</th>\n",
       "      <td id=\"T_18f43_row5_col0\" class=\"data row5 col0\" >2006.000000</td>\n",
       "      <td id=\"T_18f43_row5_col1\" class=\"data row5 col1\" >582.000000</td>\n",
       "      <td id=\"T_18f43_row5_col2\" class=\"data row5 col2\" >729.000000</td>\n",
       "    </tr>\n",
       "    <tr>\n",
       "      <th id=\"T_18f43_level0_row6\" class=\"row_heading level0 row6\" >75%</th>\n",
       "      <td id=\"T_18f43_row6_col0\" class=\"data row6 col0\" >2010.000000</td>\n",
       "      <td id=\"T_18f43_row6_col1\" class=\"data row6 col1\" >4392.000000</td>\n",
       "      <td id=\"T_18f43_row6_col2\" class=\"data row6 col2\" >7023.000000</td>\n",
       "    </tr>\n",
       "    <tr>\n",
       "      <th id=\"T_18f43_level0_row7\" class=\"row_heading level0 row7\" >max</th>\n",
       "      <td id=\"T_18f43_row7_col0\" class=\"data row7 col0\" >2015.000000</td>\n",
       "      <td id=\"T_18f43_row7_col1\" class=\"data row7 col1\" >8580100.000000</td>\n",
       "      <td id=\"T_18f43_row7_col2\" class=\"data row7 col2\" >1250800000.000000</td>\n",
       "    </tr>\n",
       "  </tbody>\n",
       "</table>\n"
      ],
      "text/plain": [
       "<pandas.io.formats.style.Styler at 0x2c1f6d56e20>"
      ]
     },
     "execution_count": 9,
     "metadata": {},
     "output_type": "execute_result"
    }
   ],
   "source": [
    "df.describe().round(3).style.background_gradient(cmap='copper')"
   ]
  },
  {
   "cell_type": "code",
   "execution_count": 10,
   "id": "b16dc5e9",
   "metadata": {},
   "outputs": [
    {
     "name": "stdout",
     "output_type": "stream",
     "text": [
      "<class 'pandas.core.frame.DataFrame'>\n",
      "RangeIndex: 246091 entries, 0 to 246090\n",
      "Data columns (total 7 columns):\n",
      " #   Column         Non-Null Count   Dtype  \n",
      "---  ------         --------------   -----  \n",
      " 0   State_Name     246091 non-null  object \n",
      " 1   District_Name  246091 non-null  object \n",
      " 2   Crop_Year      246091 non-null  int64  \n",
      " 3   Season         246091 non-null  object \n",
      " 4   Crop           246091 non-null  object \n",
      " 5   Area           246091 non-null  float64\n",
      " 6   Production     242361 non-null  float64\n",
      "dtypes: float64(2), int64(1), object(4)\n",
      "memory usage: 13.1+ MB\n"
     ]
    }
   ],
   "source": [
    "df.info()"
   ]
  },
  {
   "cell_type": "code",
   "execution_count": 11,
   "id": "7be21eae",
   "metadata": {},
   "outputs": [
    {
     "data": {
      "text/plain": [
       "State_Name        object\n",
       "District_Name     object\n",
       "Crop_Year          int64\n",
       "Season            object\n",
       "Crop              object\n",
       "Area             float64\n",
       "Production       float64\n",
       "dtype: object"
      ]
     },
     "execution_count": 11,
     "metadata": {},
     "output_type": "execute_result"
    }
   ],
   "source": [
    "df.dtypes"
   ]
  },
  {
   "cell_type": "code",
   "execution_count": 12,
   "id": "3b7e5075",
   "metadata": {},
   "outputs": [
    {
     "data": {
      "text/html": [
       "<div>\n",
       "<style scoped>\n",
       "    .dataframe tbody tr th:only-of-type {\n",
       "        vertical-align: middle;\n",
       "    }\n",
       "\n",
       "    .dataframe tbody tr th {\n",
       "        vertical-align: top;\n",
       "    }\n",
       "\n",
       "    .dataframe thead th {\n",
       "        text-align: right;\n",
       "    }\n",
       "</style>\n",
       "<table border=\"1\" class=\"dataframe\">\n",
       "  <thead>\n",
       "    <tr style=\"text-align: right;\">\n",
       "      <th></th>\n",
       "      <th>State_Name</th>\n",
       "      <th>District_Name</th>\n",
       "      <th>Crop_Year</th>\n",
       "      <th>Season</th>\n",
       "      <th>Crop</th>\n",
       "      <th>Area</th>\n",
       "      <th>Production</th>\n",
       "    </tr>\n",
       "  </thead>\n",
       "  <tbody>\n",
       "    <tr>\n",
       "      <th>0</th>\n",
       "      <td>False</td>\n",
       "      <td>False</td>\n",
       "      <td>False</td>\n",
       "      <td>False</td>\n",
       "      <td>False</td>\n",
       "      <td>False</td>\n",
       "      <td>False</td>\n",
       "    </tr>\n",
       "    <tr>\n",
       "      <th>1</th>\n",
       "      <td>False</td>\n",
       "      <td>False</td>\n",
       "      <td>False</td>\n",
       "      <td>False</td>\n",
       "      <td>False</td>\n",
       "      <td>False</td>\n",
       "      <td>False</td>\n",
       "    </tr>\n",
       "    <tr>\n",
       "      <th>2</th>\n",
       "      <td>False</td>\n",
       "      <td>False</td>\n",
       "      <td>False</td>\n",
       "      <td>False</td>\n",
       "      <td>False</td>\n",
       "      <td>False</td>\n",
       "      <td>False</td>\n",
       "    </tr>\n",
       "    <tr>\n",
       "      <th>3</th>\n",
       "      <td>False</td>\n",
       "      <td>False</td>\n",
       "      <td>False</td>\n",
       "      <td>False</td>\n",
       "      <td>False</td>\n",
       "      <td>False</td>\n",
       "      <td>False</td>\n",
       "    </tr>\n",
       "    <tr>\n",
       "      <th>4</th>\n",
       "      <td>False</td>\n",
       "      <td>False</td>\n",
       "      <td>False</td>\n",
       "      <td>False</td>\n",
       "      <td>False</td>\n",
       "      <td>False</td>\n",
       "      <td>False</td>\n",
       "    </tr>\n",
       "    <tr>\n",
       "      <th>...</th>\n",
       "      <td>...</td>\n",
       "      <td>...</td>\n",
       "      <td>...</td>\n",
       "      <td>...</td>\n",
       "      <td>...</td>\n",
       "      <td>...</td>\n",
       "      <td>...</td>\n",
       "    </tr>\n",
       "    <tr>\n",
       "      <th>246086</th>\n",
       "      <td>False</td>\n",
       "      <td>False</td>\n",
       "      <td>False</td>\n",
       "      <td>False</td>\n",
       "      <td>False</td>\n",
       "      <td>False</td>\n",
       "      <td>False</td>\n",
       "    </tr>\n",
       "    <tr>\n",
       "      <th>246087</th>\n",
       "      <td>False</td>\n",
       "      <td>False</td>\n",
       "      <td>False</td>\n",
       "      <td>False</td>\n",
       "      <td>False</td>\n",
       "      <td>False</td>\n",
       "      <td>False</td>\n",
       "    </tr>\n",
       "    <tr>\n",
       "      <th>246088</th>\n",
       "      <td>False</td>\n",
       "      <td>False</td>\n",
       "      <td>False</td>\n",
       "      <td>False</td>\n",
       "      <td>False</td>\n",
       "      <td>False</td>\n",
       "      <td>False</td>\n",
       "    </tr>\n",
       "    <tr>\n",
       "      <th>246089</th>\n",
       "      <td>False</td>\n",
       "      <td>False</td>\n",
       "      <td>False</td>\n",
       "      <td>False</td>\n",
       "      <td>False</td>\n",
       "      <td>False</td>\n",
       "      <td>False</td>\n",
       "    </tr>\n",
       "    <tr>\n",
       "      <th>246090</th>\n",
       "      <td>False</td>\n",
       "      <td>False</td>\n",
       "      <td>False</td>\n",
       "      <td>False</td>\n",
       "      <td>False</td>\n",
       "      <td>False</td>\n",
       "      <td>False</td>\n",
       "    </tr>\n",
       "  </tbody>\n",
       "</table>\n",
       "<p>246091 rows × 7 columns</p>\n",
       "</div>"
      ],
      "text/plain": [
       "        State_Name  District_Name  Crop_Year  Season   Crop   Area  Production\n",
       "0            False          False      False   False  False  False       False\n",
       "1            False          False      False   False  False  False       False\n",
       "2            False          False      False   False  False  False       False\n",
       "3            False          False      False   False  False  False       False\n",
       "4            False          False      False   False  False  False       False\n",
       "...            ...            ...        ...     ...    ...    ...         ...\n",
       "246086       False          False      False   False  False  False       False\n",
       "246087       False          False      False   False  False  False       False\n",
       "246088       False          False      False   False  False  False       False\n",
       "246089       False          False      False   False  False  False       False\n",
       "246090       False          False      False   False  False  False       False\n",
       "\n",
       "[246091 rows x 7 columns]"
      ]
     },
     "execution_count": 12,
     "metadata": {},
     "output_type": "execute_result"
    }
   ],
   "source": [
    "df.isnull()"
   ]
  },
  {
   "cell_type": "code",
   "execution_count": 13,
   "id": "c1f887a0",
   "metadata": {},
   "outputs": [
    {
     "data": {
      "text/plain": [
       "State_Name          0\n",
       "District_Name       0\n",
       "Crop_Year           0\n",
       "Season              0\n",
       "Crop                0\n",
       "Area                0\n",
       "Production       3730\n",
       "dtype: int64"
      ]
     },
     "execution_count": 13,
     "metadata": {},
     "output_type": "execute_result"
    }
   ],
   "source": [
    "df.isnull().sum()"
   ]
  },
  {
   "cell_type": "code",
   "execution_count": 14,
   "id": "1236d0f0",
   "metadata": {},
   "outputs": [
    {
     "data": {
      "text/plain": [
       "State_Name          33\n",
       "District_Name      646\n",
       "Crop_Year           19\n",
       "Season               6\n",
       "Crop               124\n",
       "Area             38442\n",
       "Production       51627\n",
       "dtype: int64"
      ]
     },
     "execution_count": 14,
     "metadata": {},
     "output_type": "execute_result"
    }
   ],
   "source": [
    "df.nunique()"
   ]
  },
  {
   "cell_type": "code",
   "execution_count": 15,
   "id": "a7bcf14d",
   "metadata": {},
   "outputs": [
    {
     "data": {
      "text/plain": [
       "0"
      ]
     },
     "execution_count": 15,
     "metadata": {},
     "output_type": "execute_result"
    }
   ],
   "source": [
    "df.duplicated().sum()"
   ]
  },
  {
   "cell_type": "code",
   "execution_count": 16,
   "id": "9431d60a",
   "metadata": {},
   "outputs": [
    {
     "data": {
      "text/plain": [
       "1.000000e+00    4028\n",
       "0.000000e+00    3523\n",
       "1.000000e+02    3521\n",
       "2.000000e+00    2964\n",
       "3.000000e+00    2311\n",
       "                ... \n",
       "2.120000e+08       1\n",
       "1.070000e+00       1\n",
       "2.293410e+05       1\n",
       "1.870600e+04       1\n",
       "5.978990e+05       1\n",
       "Name: Production, Length: 51627, dtype: int64"
      ]
     },
     "execution_count": 16,
     "metadata": {},
     "output_type": "execute_result"
    }
   ],
   "source": [
    "df['Production'].value_counts()"
   ]
  },
  {
   "cell_type": "code",
   "execution_count": 17,
   "id": "dacc00d6",
   "metadata": {},
   "outputs": [
    {
     "data": {
      "text/plain": [
       "array([2.00000e+03, 1.00000e+00, 3.21000e+02, ..., 7.29553e+05,\n",
       "       7.30136e+05, 5.97899e+05])"
      ]
     },
     "execution_count": 17,
     "metadata": {},
     "output_type": "execute_result"
    }
   ],
   "source": [
    "df['Production'].unique()"
   ]
  },
  {
   "cell_type": "code",
   "execution_count": 18,
   "id": "9e364754",
   "metadata": {},
   "outputs": [
    {
     "data": {
      "text/plain": [
       "True"
      ]
     },
     "execution_count": 18,
     "metadata": {},
     "output_type": "execute_result"
    }
   ],
   "source": [
    "df['Production'].isnull().values.any()"
   ]
  },
  {
   "cell_type": "code",
   "execution_count": 19,
   "id": "d294befd",
   "metadata": {},
   "outputs": [
    {
     "data": {
      "text/html": [
       "<div>\n",
       "<style scoped>\n",
       "    .dataframe tbody tr th:only-of-type {\n",
       "        vertical-align: middle;\n",
       "    }\n",
       "\n",
       "    .dataframe tbody tr th {\n",
       "        vertical-align: top;\n",
       "    }\n",
       "\n",
       "    .dataframe thead th {\n",
       "        text-align: right;\n",
       "    }\n",
       "</style>\n",
       "<table border=\"1\" class=\"dataframe\">\n",
       "  <thead>\n",
       "    <tr style=\"text-align: right;\">\n",
       "      <th></th>\n",
       "      <th>State_Name</th>\n",
       "      <th>District_Name</th>\n",
       "      <th>Crop_Year</th>\n",
       "      <th>Season</th>\n",
       "      <th>Crop</th>\n",
       "      <th>Area</th>\n",
       "      <th>Production</th>\n",
       "    </tr>\n",
       "  </thead>\n",
       "  <tbody>\n",
       "    <tr>\n",
       "      <th>46</th>\n",
       "      <td>Andaman and Nicobar Islands</td>\n",
       "      <td>NICOBARS</td>\n",
       "      <td>2005</td>\n",
       "      <td>Whole Year</td>\n",
       "      <td>Arecanut</td>\n",
       "      <td>795.67</td>\n",
       "      <td>NaN</td>\n",
       "    </tr>\n",
       "    <tr>\n",
       "      <th>51</th>\n",
       "      <td>Andaman and Nicobar Islands</td>\n",
       "      <td>NICOBARS</td>\n",
       "      <td>2005</td>\n",
       "      <td>Whole Year</td>\n",
       "      <td>Dry chillies</td>\n",
       "      <td>17.00</td>\n",
       "      <td>NaN</td>\n",
       "    </tr>\n",
       "    <tr>\n",
       "      <th>623</th>\n",
       "      <td>Andhra Pradesh</td>\n",
       "      <td>ANANTAPUR</td>\n",
       "      <td>2007</td>\n",
       "      <td>Kharif</td>\n",
       "      <td>Moong(Green Gram)</td>\n",
       "      <td>1000.00</td>\n",
       "      <td>NaN</td>\n",
       "    </tr>\n",
       "    <tr>\n",
       "      <th>630</th>\n",
       "      <td>Andhra Pradesh</td>\n",
       "      <td>ANANTAPUR</td>\n",
       "      <td>2007</td>\n",
       "      <td>Rabi</td>\n",
       "      <td>Horse-gram</td>\n",
       "      <td>1000.00</td>\n",
       "      <td>NaN</td>\n",
       "    </tr>\n",
       "    <tr>\n",
       "      <th>698</th>\n",
       "      <td>Andhra Pradesh</td>\n",
       "      <td>ANANTAPUR</td>\n",
       "      <td>2009</td>\n",
       "      <td>Rabi</td>\n",
       "      <td>Rapeseed &amp;Mustard</td>\n",
       "      <td>8.00</td>\n",
       "      <td>NaN</td>\n",
       "    </tr>\n",
       "    <tr>\n",
       "      <th>...</th>\n",
       "      <td>...</td>\n",
       "      <td>...</td>\n",
       "      <td>...</td>\n",
       "      <td>...</td>\n",
       "      <td>...</td>\n",
       "      <td>...</td>\n",
       "      <td>...</td>\n",
       "    </tr>\n",
       "    <tr>\n",
       "      <th>244128</th>\n",
       "      <td>West Bengal</td>\n",
       "      <td>MEDINIPUR WEST</td>\n",
       "      <td>2010</td>\n",
       "      <td>Rabi</td>\n",
       "      <td>Peas &amp; beans (Pulses)</td>\n",
       "      <td>2.00</td>\n",
       "      <td>NaN</td>\n",
       "    </tr>\n",
       "    <tr>\n",
       "      <th>244581</th>\n",
       "      <td>West Bengal</td>\n",
       "      <td>MURSHIDABAD</td>\n",
       "      <td>2006</td>\n",
       "      <td>Kharif</td>\n",
       "      <td>Moong(Green Gram)</td>\n",
       "      <td>200.00</td>\n",
       "      <td>NaN</td>\n",
       "    </tr>\n",
       "    <tr>\n",
       "      <th>245606</th>\n",
       "      <td>West Bengal</td>\n",
       "      <td>PURULIA</td>\n",
       "      <td>2001</td>\n",
       "      <td>Rabi</td>\n",
       "      <td>Rapeseed &amp;Mustard</td>\n",
       "      <td>427.00</td>\n",
       "      <td>NaN</td>\n",
       "    </tr>\n",
       "    <tr>\n",
       "      <th>245644</th>\n",
       "      <td>West Bengal</td>\n",
       "      <td>PURULIA</td>\n",
       "      <td>2002</td>\n",
       "      <td>Rabi</td>\n",
       "      <td>Rapeseed &amp;Mustard</td>\n",
       "      <td>522.00</td>\n",
       "      <td>NaN</td>\n",
       "    </tr>\n",
       "    <tr>\n",
       "      <th>245865</th>\n",
       "      <td>West Bengal</td>\n",
       "      <td>PURULIA</td>\n",
       "      <td>2008</td>\n",
       "      <td>Rabi</td>\n",
       "      <td>Khesari</td>\n",
       "      <td>2.00</td>\n",
       "      <td>NaN</td>\n",
       "    </tr>\n",
       "  </tbody>\n",
       "</table>\n",
       "<p>3730 rows × 7 columns</p>\n",
       "</div>"
      ],
      "text/plain": [
       "                         State_Name   District_Name  Crop_Year       Season  \\\n",
       "46      Andaman and Nicobar Islands        NICOBARS       2005  Whole Year    \n",
       "51      Andaman and Nicobar Islands        NICOBARS       2005  Whole Year    \n",
       "623                  Andhra Pradesh       ANANTAPUR       2007  Kharif        \n",
       "630                  Andhra Pradesh       ANANTAPUR       2007  Rabi          \n",
       "698                  Andhra Pradesh       ANANTAPUR       2009  Rabi          \n",
       "...                             ...             ...        ...          ...   \n",
       "244128                  West Bengal  MEDINIPUR WEST       2010  Rabi          \n",
       "244581                  West Bengal     MURSHIDABAD       2006  Kharif        \n",
       "245606                  West Bengal         PURULIA       2001  Rabi          \n",
       "245644                  West Bengal         PURULIA       2002  Rabi          \n",
       "245865                  West Bengal         PURULIA       2008  Rabi          \n",
       "\n",
       "                         Crop     Area  Production  \n",
       "46                   Arecanut   795.67         NaN  \n",
       "51               Dry chillies    17.00         NaN  \n",
       "623         Moong(Green Gram)  1000.00         NaN  \n",
       "630                Horse-gram  1000.00         NaN  \n",
       "698         Rapeseed &Mustard     8.00         NaN  \n",
       "...                       ...      ...         ...  \n",
       "244128  Peas & beans (Pulses)     2.00         NaN  \n",
       "244581      Moong(Green Gram)   200.00         NaN  \n",
       "245606      Rapeseed &Mustard   427.00         NaN  \n",
       "245644      Rapeseed &Mustard   522.00         NaN  \n",
       "245865                Khesari     2.00         NaN  \n",
       "\n",
       "[3730 rows x 7 columns]"
      ]
     },
     "execution_count": 19,
     "metadata": {},
     "output_type": "execute_result"
    }
   ],
   "source": [
    "df[df['Production'].isnull()]"
   ]
  },
  {
   "cell_type": "code",
   "execution_count": 20,
   "id": "58958247",
   "metadata": {},
   "outputs": [],
   "source": [
    "df.dropna(subset=[\"Production\"],axis=0,inplace=True)"
   ]
  },
  {
   "cell_type": "code",
   "execution_count": 21,
   "id": "553892e1",
   "metadata": {},
   "outputs": [
    {
     "data": {
      "text/plain": [
       "(242361, 7)"
      ]
     },
     "execution_count": 21,
     "metadata": {},
     "output_type": "execute_result"
    }
   ],
   "source": [
    "df.shape"
   ]
  },
  {
   "cell_type": "code",
   "execution_count": 22,
   "id": "bded6aa9",
   "metadata": {},
   "outputs": [
    {
     "data": {
      "text/plain": [
       "False"
      ]
     },
     "execution_count": 22,
     "metadata": {},
     "output_type": "execute_result"
    }
   ],
   "source": [
    "df['Production'].isnull().values.any()"
   ]
  },
  {
   "cell_type": "code",
   "execution_count": 23,
   "id": "509a8a38",
   "metadata": {},
   "outputs": [
    {
     "data": {
      "text/plain": [
       "State_Name       0\n",
       "District_Name    0\n",
       "Crop_Year        0\n",
       "Season           0\n",
       "Crop             0\n",
       "Area             0\n",
       "Production       0\n",
       "dtype: int64"
      ]
     },
     "execution_count": 23,
     "metadata": {},
     "output_type": "execute_result"
    }
   ],
   "source": [
    "df.isnull().sum()"
   ]
  },
  {
   "cell_type": "code",
   "execution_count": 28,
   "id": "52de664b",
   "metadata": {},
   "outputs": [],
   "source": [
    "import seaborn as sns\n",
    "import matplotlib.pyplot as plt"
   ]
  },
  {
   "cell_type": "code",
   "execution_count": 29,
   "id": "aff8d0e7",
   "metadata": {},
   "outputs": [
    {
     "data": {
      "text/plain": [
       "<AxesSubplot:>"
      ]
     },
     "execution_count": 29,
     "metadata": {},
     "output_type": "execute_result"
    },
    {
     "data": {
      "image/png": "[encoded data removed]",
      "text/plain": [
       "<Figure size 640x480 with 1 Axes>"
      ]
     },
     "metadata": {},
     "output_type": "display_data"
    }
   ],
   "source": [
    "sns.boxplot(data=df[[\"Crop_Year\",\"Production\"]], orient = 'v')"
   ]
  },
  {
   "cell_type": "code",
   "execution_count": 37,
   "id": "64265932",
   "metadata": {},
   "outputs": [
    {
     "data": {
      "text/plain": [
       "<AxesSubplot:>"
      ]
     },
     "execution_count": 37,
     "metadata": {},
     "output_type": "execute_result"
    },
    {
     "data": {
      "image/png": "[encoded data removed]",
      "text/plain": [
       "<Figure size 300x200 with 2 Axes>"
      ]
     },
     "metadata": {},
     "output_type": "display_data"
    }
   ],
   "source": [
    "fig, ax = plt.subplots(figsize=(3, 2))\n",
    "sns.heatmap(df.corr(), cmap='magma', annot=True, fmt=\".2f\")"
   ]
  },
  {
   "cell_type": "code",
   "execution_count": 41,
   "id": "5a5ace2a",
   "metadata": {},
   "outputs": [
    {
     "data": {
      "text/plain": [
       "<AxesSubplot:xlabel='Production', ylabel='State_Name'>"
      ]
     },
     "execution_count": 41,
     "metadata": {},
     "output_type": "execute_result"
    },
    {
     "data": {
      "image/png": "[encoded data removed]",
      "text/plain": [
       "<Figure size 1000x1000 with 1 Axes>"
      ]
     },
     "metadata": {},
     "output_type": "display_data"
    }
   ],
   "source": [
    "plt.figure(figsize= (10,10))\n",
    "sns.barplot(x=df['Production'],y= df[\"State_Name\"], orient='h')"
   ]
  },
  {
   "cell_type": "code",
   "execution_count": null,
   "id": "4bffcbc9",
   "metadata": {},
   "outputs": [],
   "source": []
  },
  {
   "cell_type": "code",
   "execution_count": null,
   "id": "039adce0",
   "metadata": {},
   "outputs": [],
   "source": []
  }
 ],
 "metadata": {
  "kernelspec": {
   "display_name": "Python 3 (ipykernel)",
   "language": "python",
   "name": "python3"
  },
  "language_info": {
   "codemirror_mode": {
    "name": "ipython",
    "version": 3
   },
   "file_extension": ".py",
   "mimetype": "text/x-python",
   "name": "python",
   "nbconvert_exporter": "python",
   "pygments_lexer": "ipython3",
   "version": "3.9.13"
  }
 },
 "nbformat": 4,
 "nbformat_minor": 5
}
